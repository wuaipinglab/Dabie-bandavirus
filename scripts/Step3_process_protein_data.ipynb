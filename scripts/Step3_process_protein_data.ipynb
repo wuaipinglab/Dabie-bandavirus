{
 "cells": [
  {
   "cell_type": "code",
   "execution_count": 12,
   "id": "d2365a55-0726-465c-8ef2-ab0bef3705f9",
   "metadata": {
    "ExecuteTime": {
     "end_time": "2025-05-29T03:10:34.553503Z",
     "start_time": "2025-05-29T03:10:34.511086Z"
    }
   },
   "outputs": [],
   "source": [
    "import pandas as pd\n",
    "import numpy as np\n",
    "import scipy.stats\n",
    "from sklearn.preprocessing import StandardScaler\n",
    "from Bio.PDB import PDBParser\n",
    "\n",
    "# 导入自定义模块\n",
    "from weighted_contact_number import *\n",
    "from seq_utils import *\n"
   ]
  },
  {
   "cell_type": "code",
   "execution_count": 13,
   "id": "a4c4bd5a-b9b8-4bce-be42-71b2f74c2deb",
   "metadata": {
    "ExecuteTime": {
     "end_time": "2025-05-29T03:10:35.134079Z",
     "start_time": "2025-05-29T03:10:35.118885Z"
    }
   },
   "outputs": [
    {
     "name": "stdout",
     "output_type": "stream",
     "text": [
      "Current Biopython version: 1.79\n"
     ]
    }
   ],
   "source": [
    "import Bio\n",
    "print(f\"Current Biopython version: {Bio.__version__}\")\n",
    "\n",
    "# 如果版本 >= 1.80，建议降级到1.79"
   ]
  },
  {
   "cell_type": "code",
   "execution_count": 41,
   "id": "f013eef0-f4cc-490c-8855-2954cf835256",
   "metadata": {
    "ExecuteTime": {
     "end_time": "2025-05-29T06:40:26.512427Z",
     "start_time": "2025-05-29T06:40:26.429194Z"
    }
   },
   "outputs": [
    {
     "name": "stdout",
     "output_type": "stream",
     "text": [
      "../data/sequences/M_ref.fa\n"
     ]
    }
   ],
   "source": [
    "# 氨基酸性质表\n",
    "aa_charge_hydro = '../data/aa_properties/dissimilarity_metrics.csv'\n",
    "\n",
    "# EVE预测文件\n",
    "h1_eve = '../results/evol_indices/Bunya_20000_samples.csv'\n",
    "\n",
    "# PDB结构信息\n",
    "h1_pdb_id = '8ilq'\n",
    "h1_pdb_path = '../data/structures/8ilq.pdb'\n",
    "h1_chains = ['A', 'B']\n",
    "h1_trimer_chains = ['A', 'B']\n",
    "\n",
    "# 目标序列\n",
    "h1_target_seq_path = '../data/sequences/M_ref.fa'\n",
    "print(h1_target_seq_path)\n"
   ]
  },
  {
   "cell_type": "code",
   "outputs": [],
   "source": [
    "# def process_eve_smm(eve_path):\n",
    "eve = pd.read_csv(h1_eve)\n",
    "eve = eve[1:]  # 去掉第一行（可能是冗余的 header）\n",
    "# eve\n",
    "eve.columns = eve.columns.str.replace(\"_ensemble\", \"\")\n",
    "# eve.columns\n",
    "eve['wt'] = eve.mutations.str[0]\n",
    "eve['mut'] = eve.mutations.str[-1]\n",
    "\n",
    "eve['i'] = eve.mutations.str[1:-1].astype(int)\n",
    "\n",
    "eve['evol_indices'] = -eve.evol_indices  # EVE越低表示越不利\n",
    "to_drop = ['protein_name', 'mutations']\n",
    "to_drop.extend([col for col in eve.columns if \"semantic_change\" in col])\n",
    "eve = eve.drop(columns=to_drop)\n",
    "\n"
   ],
   "metadata": {
    "collapsed": false,
    "ExecuteTime": {
     "end_time": "2025-05-29T06:44:00.691610Z",
     "start_time": "2025-05-29T06:44:00.612489Z"
    }
   },
   "id": "b954829b1f733000",
   "execution_count": 43
  },
  {
   "cell_type": "code",
   "outputs": [
    {
     "data": {
      "text/plain": "       evol_indices wt mut     i\n1        -13.701294  M   A     1\n2        -12.733520  M   C     1\n3        -12.119873  M   D     1\n4        -14.210205  M   E     1\n5        -13.088623  M   F     1\n...             ... ..  ..   ...\n20383    -14.290405  A   S  1073\n20384    -13.228638  A   T  1073\n20385    -12.890015  A   V  1073\n20386    -12.692139  A   W  1073\n20387    -13.749512  A   Y  1073\n\n[20387 rows x 4 columns]",
      "text/html": "<div>\n<style scoped>\n    .dataframe tbody tr th:only-of-type {\n        vertical-align: middle;\n    }\n\n    .dataframe tbody tr th {\n        vertical-align: top;\n    }\n\n    .dataframe thead th {\n        text-align: right;\n    }\n</style>\n<table border=\"1\" class=\"dataframe\">\n  <thead>\n    <tr style=\"text-align: right;\">\n      <th></th>\n      <th>evol_indices</th>\n      <th>wt</th>\n      <th>mut</th>\n      <th>i</th>\n    </tr>\n  </thead>\n  <tbody>\n    <tr>\n      <th>1</th>\n      <td>-13.701294</td>\n      <td>M</td>\n      <td>A</td>\n      <td>1</td>\n    </tr>\n    <tr>\n      <th>2</th>\n      <td>-12.733520</td>\n      <td>M</td>\n      <td>C</td>\n      <td>1</td>\n    </tr>\n    <tr>\n      <th>3</th>\n      <td>-12.119873</td>\n      <td>M</td>\n      <td>D</td>\n      <td>1</td>\n    </tr>\n    <tr>\n      <th>4</th>\n      <td>-14.210205</td>\n      <td>M</td>\n      <td>E</td>\n      <td>1</td>\n    </tr>\n    <tr>\n      <th>5</th>\n      <td>-13.088623</td>\n      <td>M</td>\n      <td>F</td>\n      <td>1</td>\n    </tr>\n    <tr>\n      <th>...</th>\n      <td>...</td>\n      <td>...</td>\n      <td>...</td>\n      <td>...</td>\n    </tr>\n    <tr>\n      <th>20383</th>\n      <td>-14.290405</td>\n      <td>A</td>\n      <td>S</td>\n      <td>1073</td>\n    </tr>\n    <tr>\n      <th>20384</th>\n      <td>-13.228638</td>\n      <td>A</td>\n      <td>T</td>\n      <td>1073</td>\n    </tr>\n    <tr>\n      <th>20385</th>\n      <td>-12.890015</td>\n      <td>A</td>\n      <td>V</td>\n      <td>1073</td>\n    </tr>\n    <tr>\n      <th>20386</th>\n      <td>-12.692139</td>\n      <td>A</td>\n      <td>W</td>\n      <td>1073</td>\n    </tr>\n    <tr>\n      <th>20387</th>\n      <td>-13.749512</td>\n      <td>A</td>\n      <td>Y</td>\n      <td>1073</td>\n    </tr>\n  </tbody>\n</table>\n<p>20387 rows × 4 columns</p>\n</div>"
     },
     "execution_count": 44,
     "metadata": {},
     "output_type": "execute_result"
    }
   ],
   "source": [
    "eve"
   ],
   "metadata": {
    "collapsed": false,
    "ExecuteTime": {
     "end_time": "2025-05-29T06:44:03.909302Z",
     "start_time": "2025-05-29T06:44:03.884387Z"
    }
   },
   "id": "ecbc30fdb66eed0b",
   "execution_count": 44
  },
  {
   "cell_type": "code",
   "execution_count": 45,
   "id": "ae412e6b-6cbc-4750-9251-8acc3887c2c8",
   "metadata": {
    "ExecuteTime": {
     "end_time": "2025-05-29T06:44:19.214413Z",
     "start_time": "2025-05-29T06:44:19.199051Z"
    }
   },
   "outputs": [],
   "source": [
    "def process_eve_smm(eve_path):\n",
    "    eve = pd.read_csv(eve_path)\n",
    "    eve = eve[1:]  # 去掉第一行（可能是冗余的 header）\n",
    "    eve.columns = eve.columns.str.replace(\"_ensemble\", \"\")\n",
    "    eve['wt'] = eve.mutations.str[0]\n",
    "    eve['mut'] = eve.mutations.str[-1]\n",
    "    eve['i'] = eve.mutations.str[1:-1].astype(int)\n",
    "    eve['evol_indices'] = -eve.evol_indices  # EVE越低表示越不利\n",
    "    to_drop = ['protein_name', 'mutations']\n",
    "    to_drop.extend([col for col in eve.columns if \"semantic_change\" in col])\n",
    "    eve = eve.drop(columns=to_drop)\n",
    "    return eve\n"
   ]
  },
  {
   "cell_type": "code",
   "execution_count": 46,
   "id": "b63d0dce-687a-447a-b25a-88a6bd15b299",
   "metadata": {
    "ExecuteTime": {
     "end_time": "2025-05-29T06:44:21.077210Z",
     "start_time": "2025-05-29T06:44:21.072075Z"
    }
   },
   "outputs": [],
   "source": [
    "def add_model_outputs(exps, eve_path):\n",
    "    exps = exps.merge(process_eve_smm(eve_path),\n",
    "                      on=['wt', 'mut', 'i'],\n",
    "                      how='outer')\n",
    "    return exps\n"
   ]
  },
  {
   "cell_type": "code",
   "execution_count": 47,
   "id": "e33e8f2b-7397-4d88-97d2-6a8dacc2cc25",
   "metadata": {
    "ExecuteTime": {
     "end_time": "2025-05-29T06:44:22.031415Z",
     "start_time": "2025-05-29T06:44:22.022006Z"
    }
   },
   "outputs": [],
   "source": [
    "def get_wcn(exps, pdb_path, trimer_chains, target_chains, map_table):\n",
    "    wcn = add_wcn_to_site_annotations(pdb_path, ''.join(trimer_chains))\n",
    "    wcn = wcn.rename(columns={'pdb_position': 'i', 'pdb_aa': 'wt'})\n",
    "    wcn['i'] = wcn.i.apply(lambda x: alphanumeric_index_to_numeric_index(x)\n",
    "                           if (x != '') else x)\n",
    "    wcn['i'] = wcn.i.replace('', np.nan)\n",
    "    wcn = remap_struct_df_to_target_seq(wcn, target_chains, map_table)\n",
    "\n",
    "    exps = exps.merge(wcn[['i', 'wcn_sc']], how='left', on='i')\n",
    "    exps = exps.sort_values('i')\n",
    "    exps['wcn_bfil'] = exps.wcn_sc.fillna(method='bfill')\n",
    "    exps['wcn_ffil'] = exps.wcn_sc.fillna(method='ffill')\n",
    "    exps['wcn_fill'] = (\n",
    "        exps[['wcn_ffil', 'wcn_bfil']].sum(axis=1, min_count=2) / 2)\n",
    "    exps = exps.drop(columns=['wcn_bfil', 'wcn_ffil'])\n",
    "    return exps\n"
   ]
  },
  {
   "cell_type": "code",
   "execution_count": 48,
   "id": "5d97b280-e691-48fe-83c0-fe17b9dc0f66",
   "metadata": {
    "ExecuteTime": {
     "end_time": "2025-05-29T06:44:22.929298Z",
     "start_time": "2025-05-29T06:44:22.921339Z"
    }
   },
   "outputs": [],
   "source": [
    "def hydrophobicity_charge(exps, table):\n",
    "    props = pd.read_csv(table, index_col=0)\n",
    "\n",
    "    scale = StandardScaler()\n",
    "    props['eisenberg_weiss_diff_std'] = scale.fit_transform(\n",
    "        props['eisenberg_weiss_diff'].abs().values.reshape(-1, 1))\n",
    "    props['charge_diff_std'] = scale.fit_transform(\n",
    "        props['charge_diff'].abs().values.reshape(-1, 1))\n",
    "    exps = exps.merge(props, how='left', on=['wt', 'mut'])\n",
    "\n",
    "    exps['charge_ew-hydro'] = exps[[\n",
    "        'eisenberg_weiss_diff_std', 'charge_diff_std'\n",
    "    ]].sum(axis=1)\n",
    "    exps = exps.drop(columns=['eisenberg_weiss_diff_std', 'charge_diff_std'])\n",
    "    return exps\n"
   ]
  },
  {
   "cell_type": "code",
   "execution_count": 49,
   "id": "faa45d68-4e3c-450e-848c-637cf74cf63f",
   "metadata": {
    "ExecuteTime": {
     "end_time": "2025-05-29T06:44:23.773827Z",
     "start_time": "2025-05-29T06:44:23.765375Z"
    }
   },
   "outputs": [],
   "source": [
    "def norm_to_wt(df, prefvar):\n",
    "    newvar = 'norm_' + prefvar\n",
    "\n",
    "    def grp_func(grp):\n",
    "        ref = grp[grp['wt'] == grp['mut']][prefvar].mean()\n",
    "        grp[newvar] = grp[prefvar] / ref\n",
    "        return grp\n",
    "\n",
    "    df[newvar] = df[prefvar]\n",
    "    df = df.groupby(['i', 'wt']).apply(grp_func)\n",
    "    return df\n"
   ]
  },
  {
   "cell_type": "code",
   "execution_count": 50,
   "id": "3595f7cd-d509-4599-8114-e13e890d556d",
   "metadata": {
    "ExecuteTime": {
     "end_time": "2025-05-29T06:44:24.282585Z",
     "start_time": "2025-05-29T06:44:24.278059Z"
    }
   },
   "outputs": [],
   "source": [
    "def load_H1():\n",
    "    # 初始化突变表\n",
    "    data = make_mut_table(h1_target_seq_path)\n",
    "\n",
    "    # 添加模型得分\n",
    "    data = add_model_outputs(data, h1_eve)\n",
    "\n",
    "    # 去掉 wildtype 自己和自己的比对\n",
    "    data = data[data.wt != data.mut]\n",
    "\n",
    "    # 建立结构序列映射表\n",
    "    map_table = remap_pdb_seq_to_target_seq(h1_pdb_path, h1_chains,\n",
    "                                            h1_target_seq_path)\n",
    "\n",
    "    # 添加 WCN 特征\n",
    "    data = get_wcn(data, h1_pdb_path, h1_trimer_chains, h1_chains, map_table)\n",
    "\n",
    "    # 添加氨基酸理化性质特征\n",
    "    data = hydrophobicity_charge(data, aa_charge_hydro)\n",
    "    data = data.sort_values(['i', 'mut'])\n",
    "\n",
    "    return data, map_table\n"
   ]
  },
  {
   "cell_type": "code",
   "execution_count": 51,
   "id": "551362c0-a676-4cc9-a208-2824eaa739d6",
   "metadata": {
    "ExecuteTime": {
     "end_time": "2025-05-29T06:45:27.800251Z",
     "start_time": "2025-05-29T06:44:25.154105Z"
    }
   },
   "outputs": [
    {
     "name": "stderr",
     "output_type": "stream",
     "text": [
      "/Users/duck/opt/anaconda3/envs/pytorch_env/lib/python3.9/site-packages/Bio/PDB/StructureBuilder.py:89: PDBConstructionWarning: WARNING: Chain A is discontinuous at line 8144.\n",
      "  warnings.warn(\n",
      "/Users/duck/opt/anaconda3/envs/pytorch_env/lib/python3.9/site-packages/Bio/PDB/StructureBuilder.py:89: PDBConstructionWarning: WARNING: Chain B is discontinuous at line 8158.\n",
      "  warnings.warn(\n",
      "/Users/duck/opt/anaconda3/envs/pytorch_env/lib/python3.9/site-packages/Bio/PDB/StructureBuilder.py:89: PDBConstructionWarning: WARNING: Chain A is discontinuous at line 8144.\n",
      "  warnings.warn(\n",
      "/Users/duck/opt/anaconda3/envs/pytorch_env/lib/python3.9/site-packages/Bio/PDB/StructureBuilder.py:89: PDBConstructionWarning: WARNING: Chain B is discontinuous at line 8158.\n",
      "  warnings.warn(\n"
     ]
    }
   ],
   "source": [
    "h1, _ = load_H1()\n",
    "h1.to_csv('../results/bunya_scores.csv', index=False)"
   ]
  },
  {
   "cell_type": "code",
   "execution_count": null,
   "id": "e7c3f313-6998-424d-b554-456c4b906bd1",
   "metadata": {},
   "outputs": [],
   "source": []
  },
  {
   "cell_type": "code",
   "execution_count": null,
   "id": "9817cc07-65f3-41ba-b2c7-b2b16f824382",
   "metadata": {},
   "outputs": [],
   "source": []
  }
 ],
 "metadata": {
  "kernelspec": {
   "name": "pytorch_env",
   "language": "python",
   "display_name": "pytorch_env"
  },
  "language_info": {
   "codemirror_mode": {
    "name": "ipython",
    "version": 3
   },
   "file_extension": ".py",
   "mimetype": "text/x-python",
   "name": "python",
   "nbconvert_exporter": "python",
   "pygments_lexer": "ipython3",
   "version": "3.9.19"
  }
 },
 "nbformat": 4,
 "nbformat_minor": 5
}
