{
 "cells": [
  {
   "cell_type": "code",
   "execution_count": 5,
   "id": "initial_id",
   "metadata": {
    "collapsed": true,
    "ExecuteTime": {
     "end_time": "2025-05-29T07:27:38.848478Z",
     "start_time": "2025-05-29T07:27:38.834805Z"
    }
   },
   "outputs": [],
   "source": [
    "import pandas as pd\n",
    "import numpy as np\n",
    "from sklearn.metrics import mean_squared_error, roc_auc_score, precision_recall_curve, auc, roc_curve\n",
    "from sklearn.impute import SimpleImputer\n"
   ]
  },
  {
   "cell_type": "code",
   "outputs": [],
   "source": [
    "temperatures = {\"fitness\": 1, \"surfacc\": 1, \"exchangability\": 2}"
   ],
   "metadata": {
    "collapsed": false,
    "ExecuteTime": {
     "end_time": "2025-05-29T07:27:39.429570Z",
     "start_time": "2025-05-29T07:27:39.424818Z"
    }
   },
   "id": "208d79945d3e2a38",
   "execution_count": 6
  },
  {
   "cell_type": "code",
   "outputs": [],
   "source": [
    "# 读取突变评分数据\n",
    "sftsv = pd.read_csv('../results/bunya_scores.csv')\n",
    "\n",
    "# # 找出包含突变存活分数的抗体列\n",
    "# flu_ablist = [col for col in flu.columns.values if \"mutfracsurvive\" in col]\n",
    "# flu_all_ab = flu_ablist.copy()  # 后续用于删除\n"
   ],
   "metadata": {
    "collapsed": false,
    "ExecuteTime": {
     "end_time": "2025-05-29T07:27:39.994403Z",
     "start_time": "2025-05-29T07:27:39.959411Z"
    }
   },
   "id": "10f4d2ea5e320be4",
   "execution_count": 7
  },
  {
   "cell_type": "code",
   "outputs": [],
   "source": [
    "def logistic(x):\n",
    "    return 1 / (1 + np.exp(-x))\n",
    "\n",
    "def standardization(x):\n",
    "    \"\"\"Assumes input is numpy array or pandas series\"\"\"\n",
    "    return (x - x.mean()) / x.std()\n"
   ],
   "metadata": {
    "collapsed": false,
    "ExecuteTime": {
     "end_time": "2025-05-29T07:27:40.526584Z",
     "start_time": "2025-05-29T07:27:40.521562Z"
    }
   },
   "id": "a648dde47d453e10",
   "execution_count": 8
  },
  {
   "cell_type": "code",
   "outputs": [],
   "source": [
    "def make_predictors(summary_init, thresh, ablist, scores=True):\n",
    "\n",
    "    summary = summary_init.copy()\n",
    "\n",
    "    #Drop extraneous WCN columns\n",
    "    summary = summary.drop(\n",
    "        columns=[col for col in summary.columns if \"wcn_fill_\" in col])\n",
    "    summary = summary.drop(\n",
    "        columns=[col for col in summary.columns if \"wcn_sc\" in col])\n",
    "    summary = summary.drop(\n",
    "        columns=[col for col in summary.columns if \"diff\" in col])\n",
    "\n",
    "    #Reverse WCN direction so that larger values are more accessible\n",
    "    summary[\"wcn_fill_r\"] = -summary.wcn_fill\n",
    "    summary = summary.drop(columns=\"wcn_fill\")\n",
    "\n",
    "    if scores:\n",
    "        #Calculate max escape for each mutant\n",
    "        summary[\"max_escape_experiment\"] = summary[ablist].max(axis=1)\n",
    "        #Calculate if escape>threshold for each mutant\n",
    "        summary[\n",
    "            \"is_escape_experiment\"] = summary[\"max_escape_experiment\"] > thresh\n",
    "\n",
    "    #Impute missing values for columns used to calculate EVEscape scores\n",
    "    impute_cols = [\"i\", \"evol_indices\", \"wcn_fill_r\", \"charge_ew-hydro\"]\n",
    "\n",
    "    df_imp = summary[impute_cols].copy()\n",
    "    imp = SimpleImputer(missing_values=np.nan, strategy=\"mean\")\n",
    "    df_imp = pd.DataFrame(imp.fit_transform(df_imp),\n",
    "                          columns=df_imp.columns,\n",
    "                          index=df_imp.index)\n",
    "    df_imp = pd.concat([df_imp, summary[[\"wt\", \"mut\"]]], axis=1)\n",
    "\n",
    "    #Compute EVEscape scores\n",
    "    summary[\"evescape\"] = 0\n",
    "    summary[\"evescape\"] += np.log(\n",
    "        logistic(\n",
    "            standardization(df_imp[\"evol_indices\"]) * 1 /\n",
    "            temperatures[\"fitness\"]))\n",
    "    summary[\"evescape\"] += np.log(\n",
    "        logistic(\n",
    "            standardization(df_imp[\"wcn_fill_r\"]) * 1 /\n",
    "            temperatures[\"surfacc\"]))\n",
    "    summary[\"evescape\"] += np.log(\n",
    "        logistic(\n",
    "            standardization(df_imp[\"charge_ew-hydro\"]) * 1 /\n",
    "            temperatures[\"exchangability\"]))\n",
    "\n",
    "    summary = summary.drop(\n",
    "        columns=[col for col in summary.columns if col == \"wcn_fill\"])\n",
    "\n",
    "    summary = summary.rename(\n",
    "        columns={\n",
    "            \"evol_indices\": \"fitness_eve\",\n",
    "            \"wcn_fill_r\": \"accessibility_wcn\",\n",
    "            \"charge_ew-hydro\": \"dissimilarity_charge_hydro\"\n",
    "        })\n",
    "\n",
    "    summary = summary.round(decimals=7)\n",
    "\n",
    "    return (summary)"
   ],
   "metadata": {
    "collapsed": false,
    "ExecuteTime": {
     "end_time": "2025-05-29T07:29:32.082189Z",
     "start_time": "2025-05-29T07:29:32.060131Z"
    }
   },
   "id": "5a1c953bafa473b2",
   "execution_count": 11
  },
  {
   "cell_type": "code",
   "outputs": [],
   "source": [
    "sftsv = make_predictors(sftsv, None, None, scores=False)\n"
   ],
   "metadata": {
    "collapsed": false,
    "ExecuteTime": {
     "end_time": "2025-05-29T07:29:33.565319Z",
     "start_time": "2025-05-29T07:29:33.515505Z"
    }
   },
   "id": "24dc9c5c6262b68d",
   "execution_count": 12
  },
  {
   "cell_type": "code",
   "outputs": [],
   "source": [
    "sftsv.to_csv('../results/bunya_evescape.csv', index=False)\n"
   ],
   "metadata": {
    "collapsed": false,
    "ExecuteTime": {
     "end_time": "2025-05-29T07:29:36.471582Z",
     "start_time": "2025-05-29T07:29:36.351736Z"
    }
   },
   "id": "930756b829804860",
   "execution_count": 13
  },
  {
   "cell_type": "code",
   "outputs": [
    {
     "name": "stderr",
     "output_type": "stream",
     "text": [
      "/var/folders/2t/y9z8nm4x3js6nnwlply0yzbh0000gn/T/ipykernel_37354/462718469.py:4: FutureWarning: The default value of numeric_only in DataFrameGroupBy.mean is deprecated. In a future version, numeric_only will default to False. Either specify numeric_only or select only columns which should be valid for the function.\n",
      "  summary = summary.groupby(['i', 'wt']).agg('mean').reset_index()\n"
     ]
    }
   ],
   "source": [
    "def make_site(summary_init):\n",
    "\n",
    "    summary = summary_init.copy()\n",
    "    summary = summary.groupby(['i', 'wt']).agg('mean').reset_index()\n",
    "\n",
    "    return (summary)\n",
    "\n",
    "sftsv_site = make_site(sftsv)\n"
   ],
   "metadata": {
    "collapsed": false,
    "ExecuteTime": {
     "end_time": "2025-05-29T07:30:13.351869Z",
     "start_time": "2025-05-29T07:30:13.302376Z"
    }
   },
   "id": "65e9192c1b11174f",
   "execution_count": 15
  },
  {
   "cell_type": "code",
   "outputs": [],
   "source": [],
   "metadata": {
    "collapsed": false
   },
   "id": "bab5981112943f0f"
  },
  {
   "cell_type": "code",
   "outputs": [],
   "source": [
    "sftsv_site.to_csv('../results/bunya_evescape_site.csv', index=False)\n"
   ],
   "metadata": {
    "collapsed": false,
    "ExecuteTime": {
     "end_time": "2025-05-29T07:30:22.594094Z",
     "start_time": "2025-05-29T07:30:22.572815Z"
    }
   },
   "id": "9370a932b4a836e0",
   "execution_count": 16
  },
  {
   "cell_type": "code",
   "outputs": [],
   "source": [],
   "metadata": {
    "collapsed": false
   },
   "id": "fb2b7dbc3a1a5a1a"
  }
 ],
 "metadata": {
  "kernelspec": {
   "name": "pytorch_env",
   "language": "python",
   "display_name": "pytorch_env"
  },
  "language_info": {
   "codemirror_mode": {
    "name": "ipython",
    "version": 2
   },
   "file_extension": ".py",
   "mimetype": "text/x-python",
   "name": "python",
   "nbconvert_exporter": "python",
   "pygments_lexer": "ipython2",
   "version": "2.7.6"
  }
 },
 "nbformat": 4,
 "nbformat_minor": 5
}
